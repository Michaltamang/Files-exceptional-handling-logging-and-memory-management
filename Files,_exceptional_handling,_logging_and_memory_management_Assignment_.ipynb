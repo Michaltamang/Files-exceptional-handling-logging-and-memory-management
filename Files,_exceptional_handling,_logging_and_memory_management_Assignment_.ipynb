{
  "nbformat": 4,
  "nbformat_minor": 0,
  "metadata": {
    "colab": {
      "provenance": []
    },
    "kernelspec": {
      "name": "python3",
      "display_name": "Python 3"
    },
    "language_info": {
      "name": "python"
    }
  },
  "cells": [
    {
      "cell_type": "markdown",
      "source": [],
      "metadata": {
        "id": "ahVmvdtrrfza"
      }
    },
    {
      "cell_type": "markdown",
      "source": [
        "# Theory Question"
      ],
      "metadata": {
        "id": "vTe2BlJdrgd9"
      }
    },
    {
      "cell_type": "markdown",
      "source": [],
      "metadata": {
        "id": "apuOCW0wrgab"
      }
    },
    {
      "cell_type": "markdown",
      "source": [
        "# 1.What is the difference between interpreted and compiled languages?\n",
        "  \n",
        "  > Compiled Language: A programming language in which the source code is translated entirely into machine code by a compiler before execution. This results in a standalone executable file that can be run directly by the computer’s hardware.\n",
        "\n",
        "  > Interpreted Language: A programming language where the source code is executed line by line by an interpreter at runtime, without prior full translation into machine code. It relies on an external program (the interpreter) to run.\n",
        "\n",
        "# 2.What is exception handling in Python?\n",
        "\n",
        "  >Exception handling in Python is a way to gracefully manage errors that occur during a program’s execution, so your program doesn’t crash unexpectedly.\n",
        "\n",
        "# 3.What is the purpose of the finally block in exception handling?\n",
        "\n",
        "  > The finally block in Python’s exception handling ensures that certain code runs no matter what happens—whether an error occurs, or the program runs smoothly.\n",
        "\n",
        "# 4. What is logging in Python?\n",
        "\n",
        "  > Logging in Python is a way to track events that happen while your program runs. It helps you record messages, debug issues, monitor performance, and keep an eye on application behavior—especially useful for large systems or during production.\n",
        "\n",
        "# 5.What is the significance of the __del__ method in Python?\n",
        "\n",
        "  > The __del__ method in Python is known as a destructor. Its main role is to define behavior that should happen when an object is about to be destroyed—that is, when it's being garbage collected.\n",
        "\n",
        "# 6. What is the difference between import and from ... import in Python?\n",
        "\n",
        "  > import Statement: In Python, the import statement is used to bring an entire module into your program. After importing, you access its functions or classes using the module's name as a prefix.\n",
        "\n",
        "  > from ... import Statement: This form allows you to selectively import specific functions, classes, or variables from a module directly into your program's namespace. You can use them without the module name prefix.\n",
        "\n",
        "# 7. How can you handle multiple exceptions in Python?\n",
        "\n",
        "  > In Python, handling multiple exceptions means you're prepared for different kinds of errors that might occur during runtime. You can manage this flexibly using multiple except blocks or by grouping exceptions together.\n",
        "\n",
        "# 8.What is the purpose of the with statement when handling files in Python?\n",
        "\n",
        "  > The with statement in Python is used to simplify and safely manage resources—especially when working with files. It ensures that files are properly opened and automatically closed, even if errors occur during file operations.\n",
        "\n",
        "# 9. What is the difference between multithreading and multiprocessing?\n",
        "\n",
        "  > Multithreading: A programming technique where multiple threads run concurrently, sharing the same memory space. It is ideal for I/O-bound tasks like file operations or network calls, but in Python, actual parallelism is limited due to the Global Interpreter Lock (GIL).\n",
        "\n",
        "  > Multiprocessing: A programming technique that uses multiple independent processes, each with its own memory space. This allows true parallel execution, making it suitable for CPU-bound tasks like complex calculations or data processing.\n",
        "\n",
        "# 10. What are the advantages of using logging in a program?\n",
        "\n",
        "  > Logging in a program refers to the process of recording messages about the program's execution, which can include informational events, warnings, errors, or critical failures. It is used to monitor the program's behavior, assist in debugging, and maintain records of activity for audit or analysis.\n",
        "\n",
        "# 11.What is memory management in Python?\n",
        "\n",
        "  > Memory management in Python refers to the process by which Python allocates, tracks, and frees up memory used by objects during a program's execution. It is largely handled automatically by Python's built-in memory manager, which includes mechanisms like dynamic memory allocation, reference counting, and garbage collection.\n",
        "\n",
        "# 12.What are the basic steps involved in exception handling in Python?\n",
        "\n",
        "  > In Python, exception handling allows your program to anticipate and manage runtime errors in a safe, structured way. Here are the basic steps involved:\n",
        "\n",
        "  >Identify Risky Code\n",
        "  >Catch Exceptions with except\n",
        "  >Use else for Success Path (Optional)\n",
        "  >Clean Up with finally (Optional)\n",
        "  \n",
        "# 13. Why is memory management important in Python?\n",
        "\n",
        "  > Memory management in Python is crucial because it ensures that the program uses system memory efficiently and safely. It involves automatic handling of memory allocation, deallocation, and cleanup of unused objects—allowing programs to run smoothly without manual intervention or memory leaks.\n",
        "\n",
        "# 14. What is the role of try and except in exception handling?\n",
        "\n",
        "  > try Block: The try block is used to wrap code that might raise an exception during execution. It signals that you're anticipating a potential error and want to handle it gracefully if it occurs.\n",
        "\n",
        "  > except Block: The except block defines what should happen if a specific error occurs in the try block. It catches the exception and prevents the program from crashing, allowing you to respond appropriately.\n",
        "\n",
        "# 15. How does Python's garbage collection system work?\n",
        "\n",
        "  > Garbage collection in Python is an automatic memory management process that identifies and removes objects no longer in use to free up system resources. Python uses a combination of reference counting and cyclic garbage collection to manage memory efficiently without requiring manual intervention from the programmer.\n",
        "\n",
        "# 16.What is the purpose of the else block in exception handling?\n",
        "\n",
        "  > else Block: In Python exception handling, the else block follows the try and except blocks and runs only if the try block completes successfully without raising any exceptions. It is typically used for code that should proceed only when no errors are encountered.\n",
        "\n",
        "# 17. What are the common logging levels in Python?\n",
        "\n",
        "  > Common Logging Levels in Python:\n",
        "   \n",
        "   > DEBUG =\tDetailed information, useful for diagnostics.\n",
        "   > INFO =\tGeneral events confirming that things work.\n",
        "   > WARNING = Something unexpected, but the program continues.\n",
        "   > ERROR\t= More serious problems that might affect output.\n",
        "   > CRITICAL\t= Serious issues that may cause program failure\n",
        "\n",
        "# 18.What is the difference between os.fork() and multiprocessing in Python?\n",
        "\n",
        "  > os.fork(): A low-level system call available on Unix-like operating systems that creates a new child process by duplicating the current process. After the fork, both parent and child run independently. It offers direct access to process creation but requires manual handling of inter-process communication and resource management. It is not available on Windows systems.\n",
        "\n",
        "  > multiprocessing Module: A high-level Python module that provides an interface for creating and managing separate processes. Each process runs its own Python interpreter and memory space, allowing true parallel execution. It includes built-in tools for inter-process communication and synchronization, and works cross-platform (including Windows and Unix systems).\n",
        "\n",
        "# 19.What is the importance of closing a file in Python?\n",
        "\n",
        "  > Closing a file in Python ensures that all resources associated with the file—such as system memory and file locks—are properly released. It also guarantees that any data written to the file is fully saved and that the file is not left in an unpredictable or corrupted state.\n",
        "\n",
        "# 20.What is the difference between file.read() and file.readline() in Python?\n",
        "\n",
        "  > file.read(): This method reads the entire contents of a file as a single string. You can optionally pass a number (e.g., file.read(100)) to read that many characters.\n",
        "\n",
        "  > file.readline(): This method reads just one line from the file at a time, including the newline character \\n. You can also pass a number to read part of the line.\n",
        "\n",
        "# 21.What is the logging module in Python used for?\n",
        "\n",
        "  > The logging module provides a flexible framework for tracking events and errors, allowing developers to record messages with different severity levels. These logs can be printed to the console, written to files, or even sent to remote servers.\n",
        "\n",
        "# 22. What is the os module in Python used for in file handling?\n",
        "\n",
        "  > The os module in Python is used for performing various file-handling operations such as creating, removing, navigating, and inspecting files and directories. It enables developers to manage the file system directly from Python scripts using OS-level functionalities.\n",
        "\n",
        "# 23.What are the challenges associated with memory management in Python?\n",
        "\n",
        "  > Challenges in memory management in Python refer to the limitations and complexities that arise due to Python’s automatic and abstracted approach to handling memory. While Python simplifies development by managing memory behind the scenes, certain issues can affect performance, resource efficiency, and debugging.\n",
        "\n",
        "# 24. How do you raise an exception manually in Python?\n",
        "\n",
        "  > Raising an Exception: In Python, raising an exception manually means using the raise keyword to interrupt normal program flow and signal that something has gone wrong. You can raise built-in exceptions or define and raise custom ones.\n",
        "\n",
        "# 25. Why is it important to use multithreading in certain applications?\n",
        "\n",
        "  > Multithreading is important in certain applications because it enables a program to perform multiple tasks concurrently—making it more responsive, efficient, and scalable, especially when dealing with operations that spend time waiting (like I/O-bound tasks).\n",
        "  \n",
        "\n"
      ],
      "metadata": {
        "id": "6JjblH8drr40"
      }
    },
    {
      "cell_type": "markdown",
      "source": [
        "# Practical Question"
      ],
      "metadata": {
        "id": "RsIGKnXc5uvx"
      }
    },
    {
      "cell_type": "code",
      "execution_count": 8,
      "metadata": {
        "id": "fsxUgepOrRQV"
      },
      "outputs": [],
      "source": [
        "# 1. How can you open a file for writing in Python and write a string to it?\n",
        "\n",
        "with open(\"output.txt\", \"w\") as file:\n",
        "    file.write(\"Hello, Python world!\")\n"
      ]
    },
    {
      "cell_type": "code",
      "source": [
        "# 2.Write a Python program to read the contents of a file and print each line.\n",
        "\n",
        "with open(\"output.txt\", \"r\") as file:\n",
        "    for line in file:\n",
        "        print(line.strip())\n"
      ],
      "metadata": {
        "colab": {
          "base_uri": "https://localhost:8080/"
        },
        "id": "dpy77fDZ6Sw2",
        "outputId": "818a7a6e-9abd-4d3f-db7b-d573f56648b9"
      },
      "execution_count": 10,
      "outputs": [
        {
          "output_type": "stream",
          "name": "stdout",
          "text": [
            "Hello, Python world!\n"
          ]
        }
      ]
    },
    {
      "cell_type": "code",
      "source": [
        "# 3. How would you handle a case where the file doesn't exist while trying to open it for reading?\n",
        "try:\n",
        "    with open(\"missing_file.txt\", \"r\") as file:\n",
        "        content = file.read()\n",
        "        print(content)\n",
        "except FileNotFoundError:\n",
        "    print(\"Oops! The file you're trying to read doesn't exist.\")\n",
        "\n"
      ],
      "metadata": {
        "colab": {
          "base_uri": "https://localhost:8080/"
        },
        "id": "pvzNOpS66Std",
        "outputId": "5361b39d-5c97-4256-c922-bdd9967e509e"
      },
      "execution_count": 11,
      "outputs": [
        {
          "output_type": "stream",
          "name": "stdout",
          "text": [
            "Oops! The file you're trying to read doesn't exist.\n"
          ]
        }
      ]
    },
    {
      "cell_type": "code",
      "source": [
        "# 4. Write a Python script that reads from one file and writes its content to another file.\n",
        "\n",
        "\n",
        "source_file = \"source.txt\"\n",
        "destination_file = \"destination.txt\"\n",
        "\n",
        "try:\n",
        "    with open(source_file, \"r\") as src:\n",
        "        content = src.read()\n",
        "\n",
        "    with open(destination_file, \"w\") as dest:\n",
        "        dest.write(content)\n",
        "\n",
        "    print(f\"Content copied from '{source_file}' to '{destination_file}' successfully.\")\n",
        "except FileNotFoundError:\n",
        "    print(f\"Error: The file '{source_file}' was not found.\")\n",
        "except Exception as e:\n",
        "    print(f\"An unexpected error occurred: {e}\")\n"
      ],
      "metadata": {
        "colab": {
          "base_uri": "https://localhost:8080/"
        },
        "id": "Z0-AejFT6SqS",
        "outputId": "eee6afbf-7bd7-4437-cbdc-2eadeb05eaf9"
      },
      "execution_count": 12,
      "outputs": [
        {
          "output_type": "stream",
          "name": "stdout",
          "text": [
            "Error: The file 'source.txt' was not found.\n"
          ]
        }
      ]
    },
    {
      "cell_type": "code",
      "source": [
        "# 5. How would you catch and handle division by zero error in Python.\n",
        "\n",
        "try:\n",
        "   10/0\n",
        "except ZeroDivisionError:\n",
        "  print(\"you cannot divide by 0\")\n",
        "else:\n",
        "  print(\"reasult\")"
      ],
      "metadata": {
        "colab": {
          "base_uri": "https://localhost:8080/"
        },
        "id": "MklsjpCe6SW8",
        "outputId": "4ec47134-c807-45c0-c701-314bacf6391f"
      },
      "execution_count": 13,
      "outputs": [
        {
          "output_type": "stream",
          "name": "stdout",
          "text": [
            "you cannot divide by 0\n"
          ]
        }
      ]
    },
    {
      "cell_type": "code",
      "source": [
        "# 6. Write a Python program that logs an error message to a log file when a division by zero exception occurs.\n",
        "\n",
        "import logging\n",
        "\n",
        "logging.basicConfig(\n",
        "    filename=\"error.log\",\n",
        "    level=logging.ERROR,\n",
        "    format=\"%(asctime)s - %(levelname)s - %(message)s\"\n",
        ")\n",
        "\n",
        "def divide(a, b):\n",
        "    try:\n",
        "        return a / b\n",
        "    except ZeroDivisionError as e:\n",
        "        logging.error(\"Attempted to divide by zero: %s\", e)\n",
        "        print(\"Error: Division by zero detected. Check 'error.log' for details.\")\n",
        "\n",
        "num1 = 10\n",
        "num2 = 0\n",
        "result = divide(num1, num2)\n"
      ],
      "metadata": {
        "colab": {
          "base_uri": "https://localhost:8080/"
        },
        "id": "ERSgVrTdG6CQ",
        "outputId": "eb4c1343-0c66-4267-a5d7-57a50447047b"
      },
      "execution_count": 15,
      "outputs": [
        {
          "output_type": "stream",
          "name": "stderr",
          "text": [
            "ERROR:root:Attempted to divide by zero: division by zero\n"
          ]
        },
        {
          "output_type": "stream",
          "name": "stdout",
          "text": [
            "Error: Division by zero detected. Check 'error.log' for details.\n"
          ]
        }
      ]
    },
    {
      "cell_type": "code",
      "source": [
        "# 7. How do you log information at different levels (INFO, ERROR, WARNING) in Python using the logging module.\n",
        "\n",
        "import logging\n",
        "\n",
        "logging.basicConfig(level=logging.DEBUG, format=\"%(levelname)s: %(message)s\")\n",
        "\n",
        "logging.info(\"This is an info message\")\n",
        "logging.warning(\"This is a warning message\")\n",
        "logging.error(\"This is an error message\")\n"
      ],
      "metadata": {
        "colab": {
          "base_uri": "https://localhost:8080/"
        },
        "id": "ZN_l1lSTHk3h",
        "outputId": "d42cffce-ecc1-4e54-dd22-a8faae0f4898"
      },
      "execution_count": 16,
      "outputs": [
        {
          "output_type": "stream",
          "name": "stderr",
          "text": [
            "WARNING:root:This is a warning message\n",
            "ERROR:root:This is an error message\n"
          ]
        }
      ]
    },
    {
      "cell_type": "code",
      "source": [
        "# 8. Write a program to handle a file opening error using exception handling.\n",
        "\n",
        "try:\n",
        "    with open(\"sample.txt\", \"r\") as file:\n",
        "        content = file.read()\n",
        "        print(\"File contents:\")\n",
        "        print(content)\n",
        "except FileNotFoundError:\n",
        "    print(\"Oops! The file 'sample.txt' was not found.\")\n",
        "except Exception as error:\n",
        "    print(\"Something went wrong:\", error)\n"
      ],
      "metadata": {
        "colab": {
          "base_uri": "https://localhost:8080/"
        },
        "id": "R98Vh4K2InAS",
        "outputId": "b9ea4a58-5b59-4d2d-9370-6351ce4f750e"
      },
      "execution_count": 18,
      "outputs": [
        {
          "output_type": "stream",
          "name": "stdout",
          "text": [
            "Oops! The file 'sample.txt' was not found.\n"
          ]
        }
      ]
    },
    {
      "cell_type": "code",
      "source": [
        "# 9. How can you read a file line by line and store its content in a list in Python.\n",
        "\n",
        "# Open the file and read lines into a list\n",
        "with open(\"example.txt\", \"r\") as file:\n",
        "    lines = file.readlines()\n",
        "\n",
        "# Print the list of lines\n",
        "print(lines)\n",
        "\n"
      ],
      "metadata": {
        "id": "qpF1NOcZJiew"
      },
      "execution_count": 21,
      "outputs": []
    },
    {
      "cell_type": "code",
      "source": [
        "# 10. How can you append data to an existing file in Python.\n",
        "\n",
        " # Open the file in append mode\n",
        "with open(\"example.txt\", \"a\") as file:\n",
        "    file.write(\"\\nNew line of data added!\")\n"
      ],
      "metadata": {
        "id": "03q9Xx5MJ1eA"
      },
      "execution_count": null,
      "outputs": []
    },
    {
      "cell_type": "code",
      "source": [
        "# 11.Write a Python program that uses a try-except block to handle an error when attempting to access a dictionary key that doesn't exist.\n",
        "\n",
        "# Sample dictionary\n",
        "user_profile = {\n",
        "    \"name\": \"Alice\",\n",
        "    \"age\": 30\n",
        "}\n",
        "\n",
        "# Try to access a key that might not exist\n",
        "try:\n",
        "    email = user_profile[\"email\"]\n",
        "    print(\"Email:\", email)\n",
        "except KeyError:\n",
        "    print(\"Error: 'email' key not found in user_profile.\")\n"
      ],
      "metadata": {
        "colab": {
          "base_uri": "https://localhost:8080/"
        },
        "id": "zUseGy6xKnba",
        "outputId": "b1302ca1-1757-44dc-8519-8ff26f7267c6"
      },
      "execution_count": 22,
      "outputs": [
        {
          "output_type": "stream",
          "name": "stdout",
          "text": [
            "Error: 'email' key not found in user_profile.\n"
          ]
        }
      ]
    },
    {
      "cell_type": "code",
      "source": [
        "# 12.Write a program that demonstrates using multiple except blocks to handle different types of exceptions.\n",
        "\n",
        "try:\n",
        "    # Attempt division and dictionary key access\n",
        "    num = int(input(\"Enter a number: \"))\n",
        "    result = 10 / num\n",
        "\n",
        "    data = {\"name\": \"Alice\"}\n",
        "    print(\"Age:\", data[\"age\"])  # This will raise KeyError\n",
        "\n",
        "except ZeroDivisionError:\n",
        "    print(\"Error: Cannot divide by zero.\")\n",
        "except ValueError:\n",
        "    print(\"Error: Please enter a valid integer.\")\n",
        "except KeyError as e:\n",
        "    print(f\"Error: Missing key - {e}\")\n",
        "except Exception as e:\n",
        "    print(f\"Unexpected error occurred: {e}\")\n"
      ],
      "metadata": {
        "colab": {
          "base_uri": "https://localhost:8080/"
        },
        "id": "50P79wibLXjU",
        "outputId": "38e29c3b-d893-4e02-d565-16394ff1dbcd"
      },
      "execution_count": 24,
      "outputs": [
        {
          "output_type": "stream",
          "name": "stdout",
          "text": [
            "Enter a number: 0\n",
            "Error: Cannot divide by zero.\n"
          ]
        }
      ]
    },
    {
      "cell_type": "code",
      "source": [
        "# 13. How would you check if a file exists before attempting to read it in Python.\n",
        "\n",
        "import os\n",
        "\n",
        "filename = \"data.txt\"\n",
        "\n",
        "if os.path.exists(filename):\n",
        "    with open(filename, \"r\") as file:\n",
        "        content = file.read()\n",
        "        print(content)\n",
        "else:\n",
        "    print(f\"File '{filename}' does not exist.\")\n"
      ],
      "metadata": {
        "colab": {
          "base_uri": "https://localhost:8080/"
        },
        "id": "JvhB3pREMJq7",
        "outputId": "e1bccee5-67b0-46df-86af-3ad32f8fa7dc"
      },
      "execution_count": 26,
      "outputs": [
        {
          "output_type": "stream",
          "name": "stdout",
          "text": [
            "File 'data.txt' does not exist.\n"
          ]
        }
      ]
    },
    {
      "cell_type": "code",
      "source": [
        "# 14.Write a program that uses the logging module to log both informational and error messages.\n",
        "\n",
        "import logging\n",
        "\n",
        "# Configure logging settings\n",
        "logging.basicConfig(level=logging.INFO, format=\"%(asctime)s - %(levelname)s - %(message)s\",filename=\"app.log\", filemode=\"w\")\n",
        "\n",
        "# Log an informational message\n",
        "logging.info(\"Program has started successfully.\")\n",
        "\n",
        "# Simulate a process with a potential error\n",
        "try:\n",
        "    x = 10 / 0  # This will raise ZeroDivisionError\n",
        "except ZeroDivisionError as e:\n",
        "    logging.error(\"Division by zero error occurred: %s\", e)\n",
        "\n",
        "# Log another informational message\n",
        "logging.info(\"Program is still running after error handling.\")\n"
      ],
      "metadata": {
        "colab": {
          "base_uri": "https://localhost:8080/"
        },
        "id": "E2KfiAB7Mi20",
        "outputId": "c3aa0963-f012-454a-f789-bbc12a0430ab"
      },
      "execution_count": 27,
      "outputs": [
        {
          "output_type": "stream",
          "name": "stderr",
          "text": [
            "ERROR:root:Division by zero error occurred: division by zero\n"
          ]
        }
      ]
    },
    {
      "cell_type": "code",
      "source": [
        "# 15. Write a Python program that prints the content of a file and handles the case when the file is empty.\n",
        "\n",
        "filename = \"sample.txt\"\n",
        "\n",
        "try:\n",
        "    with open(filename, \"r\") as file:\n",
        "        content = file.read()\n",
        "\n",
        "        if content:\n",
        "            print(\"File contents:\")\n",
        "            print(content)\n",
        "        else:\n",
        "            print(f\"The file '{filename}' is empty.\")\n",
        "except FileNotFoundError:\n",
        "    print(f\"The file '{filename}' was not found.\")\n",
        "except Exception as e:\n",
        "    print(\"Something went wrong:\", e)\n"
      ],
      "metadata": {
        "colab": {
          "base_uri": "https://localhost:8080/"
        },
        "id": "uhm1qsWGNJhu",
        "outputId": "b66ef05e-f3da-4120-b00a-6bf0c0e5454f"
      },
      "execution_count": 28,
      "outputs": [
        {
          "output_type": "stream",
          "name": "stdout",
          "text": [
            "The file 'sample.txt' was not found.\n"
          ]
        }
      ]
    },
    {
      "cell_type": "code",
      "source": [
        "# 16. Demonstrate how to use memory profiling to check the memory usage of a small program.\n",
        "\n",
        "from memory_profiler import profile\n",
        "\n",
        "@profile\n",
        "def process_data():\n",
        "    data = [x ** 2 for x in range(100000)]  # Memory-heavy list\n",
        "    return sum(data)\n",
        "\n",
        "process_data()\n"
      ],
      "metadata": {
        "id": "VnA3l8xBN0AY"
      },
      "execution_count": 30,
      "outputs": []
    },
    {
      "cell_type": "code",
      "source": [
        "# 17.Write a Python program to create and write a list of numbers to a file, one number per line.\n",
        "\n",
        "# Create a list of numbers\n",
        "numbers = [1, 2, 3, 4, 5]\n",
        "\n",
        "# Open a file in write mode\n",
        "with open(\"numbers.txt\", \"w\") as file:\n",
        "    # Write each number to the file, one per line\n",
        "    for number in numbers:\n",
        "        file.write(f\"{number}\\n\")\n",
        "\n",
        "print(\"Numbers have been written to 'numbers.txt'\")\n"
      ],
      "metadata": {
        "colab": {
          "base_uri": "https://localhost:8080/"
        },
        "id": "zwyKwmG5O1Cp",
        "outputId": "8fa332a5-25de-49f4-e7c8-41447c4f8c64"
      },
      "execution_count": 31,
      "outputs": [
        {
          "output_type": "stream",
          "name": "stdout",
          "text": [
            "Numbers have been written to 'numbers.txt'\n"
          ]
        }
      ]
    },
    {
      "cell_type": "code",
      "source": [
        "# 18. How would you implement a basic logging setup that logs to a file with rotation after 1MB.\n",
        "\n",
        "import logging\n",
        "from logging.handlers import RotatingFileHandler\n",
        "\n",
        "# Create a rotating file handler\n",
        "handler = RotatingFileHandler(\n",
        "    \"app.log\",       # Log file name\n",
        "    maxBytes=1_048_576,  # 1MB = 1,048,576 bytes\n",
        "    backupCount=3        # Keep up to 3 backup files\n",
        ")\n",
        "\n",
        "# Configure logging\n",
        "logging.basicConfig(\n",
        "    level=logging.INFO,\n",
        "    format=\"%(asctime)s - %(levelname)s - %(message)s\",\n",
        "    handlers=[handler]\n",
        ")\n",
        "\n",
        "# Sample logging\n",
        "for i in range(10000):\n",
        "    logging.info(f\"This is log message number {i}\")\n"
      ],
      "metadata": {
        "id": "UR-LXdtNPnWU"
      },
      "execution_count": 32,
      "outputs": []
    },
    {
      "cell_type": "code",
      "source": [
        "# 19. Write a program that handles both IndexError and KeyError using a try-except block.\n",
        "\n",
        "my_list = [10, 20, 30]\n",
        "my_dict = {\"name\": \"Alice\", \"age\": 25}\n",
        "\n",
        "try:\n",
        "    print(\"List item:\", my_list[5])\n",
        "\n",
        "    print(\"Email:\", my_dict[\"email\"])\n",
        "\n",
        "except IndexError:\n",
        "    print(\"Error: List index is out of range.\")\n",
        "\n",
        "except KeyError:\n",
        "    print(\"Error: Dictionary key not found.\")\n"
      ],
      "metadata": {
        "colab": {
          "base_uri": "https://localhost:8080/"
        },
        "id": "qsuvizXHP73G",
        "outputId": "7be4edaa-0faf-4d9f-d7bd-1b3ee5d8f09f"
      },
      "execution_count": 33,
      "outputs": [
        {
          "output_type": "stream",
          "name": "stdout",
          "text": [
            "Error: List index is out of range.\n"
          ]
        }
      ]
    },
    {
      "cell_type": "code",
      "source": [
        "# 20. How would you open a file and read its contents using a context manager in Python.\n",
        "\n",
        "# Open the file and read contents\n",
        "with open(\"example.txt\", \"r\") as file:\n",
        "    content = file.read()\n",
        "\n",
        "# Display the content\n",
        "print(content)\n"
      ],
      "metadata": {
        "id": "qNfe2o2AQUtQ"
      },
      "execution_count": null,
      "outputs": []
    },
    {
      "cell_type": "code",
      "source": [
        "# 21. Write a Python program that reads a file and prints the number of occurrences of a specific word.\n",
        "\n",
        "# Define the word to search for\n",
        "target_word = \"python\"\n",
        "\n",
        "# Open and read the file\n",
        "try:\n",
        "    with open(\"example.txt\", \"r\") as file:\n",
        "        content = file.read()\n",
        "\n",
        "        # Convert the content to lowercase for case-insensitive matching\n",
        "        content_lower = content.lower()\n",
        "\n",
        "        # Split into words and count occurrences\n",
        "        word_list = content_lower.split()\n",
        "        count = word_list.count(target_word.lower())\n",
        "\n",
        "        print(f\"The word '{target_word}' appears {count} time(s) in the file.\")\n",
        "\n",
        "except FileNotFoundError:\n",
        "    print(\"Error: File not found.\")\n",
        "except Exception as e:\n",
        "    print(\"Unexpected error:\", e)\n"
      ],
      "metadata": {
        "colab": {
          "base_uri": "https://localhost:8080/"
        },
        "id": "Pu4hPrR6QlwJ",
        "outputId": "f557aca0-6c16-42aa-a0df-3b35aacdaafc"
      },
      "execution_count": 34,
      "outputs": [
        {
          "output_type": "stream",
          "name": "stdout",
          "text": [
            "Error: File not found.\n"
          ]
        }
      ]
    },
    {
      "cell_type": "code",
      "source": [
        "# 22. How can you check if a file is empty before attempting to read its contents?\n",
        "\n",
        "import os\n",
        "\n",
        "filename = \"example.txt\"\n",
        "\n",
        "# Check if file exists and is not empty\n",
        "if os.path.exists(filename) and os.path.getsize(filename) > 0:\n",
        "    with open(filename, \"r\") as file:\n",
        "        content = file.read()\n",
        "        print(\"File content:\\n\", content)\n",
        "else:\n",
        "    print(f\"The file '{filename}' is either missing or empty.\")\n"
      ],
      "metadata": {
        "colab": {
          "base_uri": "https://localhost:8080/"
        },
        "id": "_NrsGFHsUCef",
        "outputId": "f3bc60ae-ea8c-4aa1-d927-27f6d5b642a2"
      },
      "execution_count": 35,
      "outputs": [
        {
          "output_type": "stream",
          "name": "stdout",
          "text": [
            "The file 'example.txt' is either missing or empty.\n"
          ]
        }
      ]
    },
    {
      "cell_type": "code",
      "source": [
        "# 23.Write a Python program that writes to a log file when an error occurs during file handling.\n",
        "\n",
        "import logging\n",
        "\n",
        "# Set up logging configuration\n",
        "logging.basicConfig(\n",
        "    filename=\"file_errors.log\",   # Log file name\n",
        "    level=logging.ERROR,          # Only log errors and above\n",
        "    format=\"%(asctime)s - %(levelname)s - %(message)s\"\n",
        ")\n",
        "\n",
        "filename = \"nonexistent.txt\"\n",
        "\n",
        "try:\n",
        "    with open(filename, \"r\") as file:\n",
        "        content = file.read()\n",
        "        print(\"File content:\")\n",
        "        print(content)\n",
        "except FileNotFoundError as e:\n",
        "    logging.error(\"FileNotFoundError: %s\", e)\n",
        "    print(f\"Error: The file '{filename}' was not found.\")\n",
        "except PermissionError as e:\n",
        "    logging.error(\"PermissionError: %s\", e)\n",
        "    print(f\"Error: Permission denied for file '{filename}'.\")\n",
        "except Exception as e:\n",
        "    logging.error(\"Unhandled Exception: %s\", e)\n",
        "    print(\"An unexpected error occurred.\")\n"
      ],
      "metadata": {
        "colab": {
          "base_uri": "https://localhost:8080/"
        },
        "id": "VaEWjsfAUaFB",
        "outputId": "fbe2c91a-4f94-402e-df89-5ceabba1fde4"
      },
      "execution_count": 36,
      "outputs": [
        {
          "output_type": "stream",
          "name": "stderr",
          "text": [
            "ERROR:root:FileNotFoundError: [Errno 2] No such file or directory: 'nonexistent.txt'\n"
          ]
        },
        {
          "output_type": "stream",
          "name": "stdout",
          "text": [
            "Error: The file 'nonexistent.txt' was not found.\n"
          ]
        }
      ]
    },
    {
      "cell_type": "code",
      "source": [],
      "metadata": {
        "id": "ctpt9gupUvDL"
      },
      "execution_count": null,
      "outputs": []
    }
  ]
}